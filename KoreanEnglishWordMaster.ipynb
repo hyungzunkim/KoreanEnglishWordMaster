{
 "cells": [
  {
   "cell_type": "code",
   "execution_count": 1,
   "id": "ad98b9a4",
   "metadata": {
    "scrolled": false
   },
   "outputs": [],
   "source": [
    "import sys\n",
    "from PyQt5.QtWidgets import *\n",
    "from PyQt5 import uic\n",
    "import pandas as pd\n",
    "import numpy as np\n",
    "from threading import Timer\n",
    "\n",
    "\n",
    "form_class = uic.loadUiType(\"A2_2022020089_김형준.ui\")[0]"
   ]
  },
  {
   "cell_type": "code",
   "execution_count": 2,
   "id": "0176aa16",
   "metadata": {},
   "outputs": [],
   "source": [
    "class MyWindow(QMainWindow, form_class):\n",
    "    def __init__(self):\n",
    "        super().__init__()\n",
    "        self.setupUi(self)\n",
    "        \n",
    "        \n",
    "        \n",
    "        self.load_file.clicked.connect(self.load_words)\n",
    "        self.input.returnPressed.connect(self.quiz_input)\n",
    "        self.language.activated.connect(self.on_changed_language)\n",
    "        \n",
    "        \n",
    "    def start_game(self):\n",
    "        randNumber = np.random.choice(self.korea.size, 1)[0]\n",
    "        \n",
    "        if self.lang == 0:\n",
    "            self.problem = self.english[randNumber]\n",
    "            self.answer = self.korea[randNumber]\n",
    "        \n",
    "        else:\n",
    "            self.problem = self.korea[randNumber]\n",
    "            self.answer = self.english[randNumber]\n",
    "            \n",
    "        \n",
    "        self.quiz.append(f\"(Question #{self.idx}): {self.problem}\") #GUI에 띄우기\n",
    "\n",
    "    \n",
    "    \n",
    "    def load_words(self):\n",
    "        self.quiz.clear()\n",
    "        df = pd.read_excel('excel_sample.xlsx')\n",
    "        self.korea = df['korea']\n",
    "        self.english = df['english']\n",
    "        \n",
    "        self.lang = 0 #처음 디폴트로 0으로 영어 언어설정\n",
    "        self.idx = 1\n",
    "        \n",
    "        self.start_game()\n",
    "        \n",
    "        \n",
    "    \n",
    "    def on_changed_language(self, text):\n",
    "        self.lang = text\n",
    "    \n",
    "    \n",
    "    \n",
    "    def quiz_input(self):\n",
    "        my_answer = self.input.text()\n",
    "        \n",
    "        ## 정답인 경우\n",
    "        if (my_answer == self.answer):\n",
    "            # 아래 소스를 Questions에 추가되도록 소스 변경해주기\n",
    "            self.quiz.append(\"정답입니다!\")\n",
    "            score += 1\n",
    "        else:\n",
    "            # 아래 소스를 Questions에 추가되도록 소스 변경해주기\n",
    "            self.quiz.append(\"Wrong!\")\n",
    "            self.quiz.append(f\"(Answer) {self.answer}\")\n",
    "            self.quiz.append(\"\")\n",
    "            \n",
    "            ## 우측 메모장(오답노트)에 추가되도록 소스 변경해주기\n",
    "            self.wordmaster.append(f\"(Question #{self.idx}) {self.problem} : {self.answer}\")\n",
    "        \n",
    "        \n",
    "        self.idx += 1\n",
    "        self.input.setText(\"\")\n",
    " \n",
    "        timer = Timer(1.5, self.start_game, ())\n",
    "        timer.start()\n",
    "    \n"
   ]
  },
  {
   "cell_type": "code",
   "execution_count": null,
   "id": "f54b6b3c",
   "metadata": {
    "scrolled": true
   },
   "outputs": [
    {
     "name": "stderr",
     "output_type": "stream",
     "text": [
      "2022-04-10 12:31:58.399 python[75796:2545462] TSM AdjustCapsLockLEDForKeyTransitionHandling - _ISSetPhysicalKeyboardCapsLockLED Inhibit\n",
      "QObject::connect: Cannot queue arguments of type 'QTextCursor'\n",
      "(Make sure 'QTextCursor' is registered using qRegisterMetaType().)\n"
     ]
    }
   ],
   "source": [
    "if __name__ == \"__main__\":\n",
    "    app = QApplication(sys.argv)\n",
    "    myWindow = MyWindow()\n",
    "    myWindow.show()\n",
    "    app.exec_()"
   ]
  },
  {
   "cell_type": "code",
   "execution_count": null,
   "id": "6e3c20d4",
   "metadata": {},
   "outputs": [],
   "source": []
  },
  {
   "cell_type": "code",
   "execution_count": null,
   "id": "0367384b",
   "metadata": {},
   "outputs": [],
   "source": []
  }
 ],
 "metadata": {
  "kernelspec": {
   "display_name": "Python 3 (ipykernel)",
   "language": "python",
   "name": "python3"
  },
  "language_info": {
   "codemirror_mode": {
    "name": "ipython",
    "version": 3
   },
   "file_extension": ".py",
   "mimetype": "text/x-python",
   "name": "python",
   "nbconvert_exporter": "python",
   "pygments_lexer": "ipython3",
   "version": "3.9.7"
  }
 },
 "nbformat": 4,
 "nbformat_minor": 5
}
